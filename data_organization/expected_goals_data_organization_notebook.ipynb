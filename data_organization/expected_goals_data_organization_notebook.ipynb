{
  "nbformat": 4,
  "nbformat_minor": 0,
  "metadata": {
    "kernelspec": {
      "display_name": "Python 3",
      "language": "python",
      "name": "python3"
    },
    "language_info": {
      "codemirror_mode": {
        "name": "ipython",
        "version": 3
      },
      "file_extension": ".py",
      "mimetype": "text/x-python",
      "name": "python",
      "nbconvert_exporter": "python",
      "pygments_lexer": "ipython3",
      "version": "3.8.5"
    },
    "colab": {
      "name": "expected_goals_data_organization_notebook.ipynb",
      "provenance": [],
      "collapsed_sections": [],
      "include_colab_link": true
    }
  },
  "cells": [
    {
      "cell_type": "markdown",
      "metadata": {
        "id": "view-in-github",
        "colab_type": "text"
      },
      "source": [
        "<a href=\"https://colab.research.google.com/github/wswager/expected_goals/blob/main/data_organization/expected_goals_data_organization_notebook.ipynb\" target=\"_parent\"><img src=\"https://colab.research.google.com/assets/colab-badge.svg\" alt=\"Open In Colab\"/></a>"
      ]
    },
    {
      "cell_type": "markdown",
      "metadata": {
        "id": "lgTno6Bwd6nq"
      },
      "source": [
        "**Capstone Project Submission**\n",
        "\n",
        "* Student Name: Wes Swager\n",
        "* Student Pace: Full Time\n",
        "* Instructor Name: Claude Fried\n",
        "* Scheduled Project Review Date/Time\n",
        "    * Friday, June 11, 2021, 2:30pm CST"
      ]
    },
    {
      "cell_type": "markdown",
      "metadata": {
        "id": "kifWjQxfd6n0"
      },
      "source": [
        "# Data Organization Notebook"
      ]
    },
    {
      "cell_type": "markdown",
      "metadata": {
        "id": "B7U5vuZWd6n5"
      },
      "source": [
        "# Packages"
      ]
    },
    {
      "cell_type": "code",
      "metadata": {
        "id": "A-gbxeUTd6n7",
        "colab": {
          "base_uri": "https://localhost:8080/"
        },
        "outputId": "293e7d4a-58d5-4f77-e86b-8e4b8d69faf1"
      },
      "source": [
        "# Drive  and IO to access saved data\n",
        "from google.colab import drive, files\n",
        "drive.mount('/content/drive')\n",
        "\n",
        "import io\n",
        "\n",
        "# Pandas for Dataframes\n",
        "import pandas as pd\n",
        "\n",
        "# Numpy and for mathematical functions\n",
        "import numpy as np\n",
        "\n",
        "import warnings\n",
        "warnings.filterwarnings('ignore')"
      ],
      "execution_count": null,
      "outputs": [
        {
          "output_type": "stream",
          "text": [
            "Drive already mounted at /content/drive; to attempt to forcibly remount, call drive.mount(\"/content/drive\", force_remount=True).\n"
          ],
          "name": "stdout"
        }
      ]
    },
    {
      "cell_type": "markdown",
      "metadata": {
        "id": "7tOqsbHGd6oA"
      },
      "source": [
        "# Data"
      ]
    },
    {
      "cell_type": "markdown",
      "metadata": {
        "id": "Z9Q_5Qisd6oB"
      },
      "source": [
        "Data sourced from [StatsBomb Open Data](https://github.com/statsbomb/open-data)\n",
        "\n",
        "Data extracted in [expected_goals_data_extraction_notebook](https://github.com/wswager/expected_goals/blob/main/data_extraction/expected_goals_data_extraction_notebook.ipynb)"
      ]
    },
    {
      "cell_type": "code",
      "metadata": {
        "scrolled": true,
        "id": "mvWZ6Mrgd6oa"
      },
      "source": [
        "# Import events_shots_df from expected_goals_data_extraction_notebook\n",
        "\n",
        "organized_data = pd.read_csv('/content/drive/MyDrive/expected_goals/data_organization/organized_data.csv')"
      ],
      "execution_count": null,
      "outputs": []
    },
    {
      "cell_type": "markdown",
      "metadata": {
        "id": "J3qcFoGsj8Ma"
      },
      "source": [
        "# Extract Shot-Specific Data"
      ]
    },
    {
      "cell_type": "code",
      "metadata": {
        "id": "MQjsUZ4tkGiz"
      },
      "source": [
        "# Extracting shot specific data from \n",
        "# events_df nested dictionaries\n",
        "\n",
        "shots_df = events_shots_df[['index',\n",
        "                            'timestamp',\n",
        "                            'shot',\n",
        "                            'location',\n",
        "                            'player',\n",
        "                            'possession_team']]"
      ],
      "execution_count": null,
      "outputs": []
    },
    {
      "cell_type": "code",
      "metadata": {
        "colab": {
          "base_uri": "https://localhost:8080/",
          "height": 293
        },
        "id": "exx0dkZukInf",
        "outputId": "88d51741-ca9c-45a2-b307-9c0c977475a5"
      },
      "source": [
        "shots_df.head()"
      ],
      "execution_count": null,
      "outputs": [
        {
          "output_type": "execute_result",
          "data": {
            "text/html": [
              "<div>\n",
              "<style scoped>\n",
              "    .dataframe tbody tr th:only-of-type {\n",
              "        vertical-align: middle;\n",
              "    }\n",
              "\n",
              "    .dataframe tbody tr th {\n",
              "        vertical-align: top;\n",
              "    }\n",
              "\n",
              "    .dataframe thead th {\n",
              "        text-align: right;\n",
              "    }\n",
              "</style>\n",
              "<table border=\"1\" class=\"dataframe\">\n",
              "  <thead>\n",
              "    <tr style=\"text-align: right;\">\n",
              "      <th></th>\n",
              "      <th>index</th>\n",
              "      <th>timestamp</th>\n",
              "      <th>shot</th>\n",
              "      <th>location</th>\n",
              "      <th>player</th>\n",
              "      <th>possession_team</th>\n",
              "    </tr>\n",
              "  </thead>\n",
              "  <tbody>\n",
              "    <tr>\n",
              "      <th>257</th>\n",
              "      <td>258</td>\n",
              "      <td>2021-06-11 00:04:38.609</td>\n",
              "      <td>{'statsbomb_xg': 0.26615402, 'end_location': [...</td>\n",
              "      <td>[109.0, 46.0]</td>\n",
              "      <td>{'id': 4641, 'name': 'Francesca Kirby'}</td>\n",
              "      <td>{'id': 971, 'name': 'Chelsea FCW'}</td>\n",
              "    </tr>\n",
              "    <tr>\n",
              "      <th>541</th>\n",
              "      <td>542</td>\n",
              "      <td>2021-06-11 00:11:45.046</td>\n",
              "      <td>{'one_on_one': True, 'statsbomb_xg': 0.0935205...</td>\n",
              "      <td>[113.0, 35.0]</td>\n",
              "      <td>{'id': 15550, 'name': 'Bethany England'}</td>\n",
              "      <td>{'id': 971, 'name': 'Chelsea FCW'}</td>\n",
              "    </tr>\n",
              "    <tr>\n",
              "      <th>613</th>\n",
              "      <td>614</td>\n",
              "      <td>2021-06-11 00:18:03.461</td>\n",
              "      <td>{'statsbomb_xg': 0.036171142, 'end_location': ...</td>\n",
              "      <td>[94.0, 43.0]</td>\n",
              "      <td>{'id': 4638, 'name': 'Drew Spence'}</td>\n",
              "      <td>{'id': 971, 'name': 'Chelsea FCW'}</td>\n",
              "    </tr>\n",
              "    <tr>\n",
              "      <th>876</th>\n",
              "      <td>877</td>\n",
              "      <td>2021-06-11 00:23:11.935</td>\n",
              "      <td>{'statsbomb_xg': 0.016625367000000002, 'end_lo...</td>\n",
              "      <td>[86.0, 34.0]</td>\n",
              "      <td>{'id': 10193, 'name': 'Chloe Arthur'}</td>\n",
              "      <td>{'id': 969, 'name': 'Birmingham City WFC'}</td>\n",
              "    </tr>\n",
              "    <tr>\n",
              "      <th>891</th>\n",
              "      <td>892</td>\n",
              "      <td>2021-06-11 00:23:45.810</td>\n",
              "      <td>{'statsbomb_xg': 0.030716168000000002, 'end_lo...</td>\n",
              "      <td>[94.0, 33.0]</td>\n",
              "      <td>{'id': 15550, 'name': 'Bethany England'}</td>\n",
              "      <td>{'id': 971, 'name': 'Chelsea FCW'}</td>\n",
              "    </tr>\n",
              "  </tbody>\n",
              "</table>\n",
              "</div>"
            ],
            "text/plain": [
              "     index  ...                             possession_team\n",
              "257    258  ...          {'id': 971, 'name': 'Chelsea FCW'}\n",
              "541    542  ...          {'id': 971, 'name': 'Chelsea FCW'}\n",
              "613    614  ...          {'id': 971, 'name': 'Chelsea FCW'}\n",
              "876    877  ...  {'id': 969, 'name': 'Birmingham City WFC'}\n",
              "891    892  ...          {'id': 971, 'name': 'Chelsea FCW'}\n",
              "\n",
              "[5 rows x 6 columns]"
            ]
          },
          "metadata": {
            "tags": []
          },
          "execution_count": 0
        }
      ]
    },
    {
      "cell_type": "code",
      "metadata": {
        "id": "grfCS-IrkLZ6"
      },
      "source": [
        "shots_df.to_csv('/content/drive/MyDrive/flatiron/expected_goals/data_organization/shots_df.csv')"
      ],
      "execution_count": null,
      "outputs": []
    },
    {
      "cell_type": "markdown",
      "metadata": {
        "id": "beyM3JJmkd5T"
      },
      "source": [
        "# Extract Features from Nested Dictionaries"
      ]
    },
    {
      "cell_type": "markdown",
      "metadata": {
        "id": "y00eBxMgkhiq"
      },
      "source": [
        "## Shot-Specific Features"
      ]
    },
    {
      "cell_type": "code",
      "metadata": {
        "id": "6BlEbI0ckQt3"
      },
      "source": [
        "# Defining and extracting shot specific features from\n",
        "# shots_df nested dictionaries\n",
        "\n",
        "# Shot location\n",
        "location_list = []\n",
        "location_list.extend(list(shots_df['location'].values))\n",
        "\n",
        "# Create dataframe of shot features\n",
        "extracted_data = pd.DataFrame(location_list)\n",
        "extracted_data.columns = ['location_x',\n",
        "                          'location_y']\n",
        "\n",
        "# Shot timestamp\n",
        "time_list = []\n",
        "time_list.extend(list(shots_df['timestamp'].values))\n",
        "extracted_data['time'] = time_list\n",
        "\n",
        "# StatBombs' xG metric\n",
        "statsbomb_xg_list = []\n",
        "for i in range(0, len(shots_df)):\n",
        "    statsbomb_xg_list.append(shots_df.iloc[i]['shot']['statsbomb_xg'])\n",
        "extracted_data['statsbomb_xg'] = statsbomb_xg_list\n",
        "\n",
        "# Outcome of shot\n",
        "outcome_list = []\n",
        "for i in range(0, len(shots_df)):\n",
        "    outcome_list.append(shots_df.iloc[i]['shot']['outcome']['name'])\n",
        "extracted_data['outcome'] = outcome_list\n",
        "        \n",
        "# Player who shot\n",
        "player_shot_list = []\n",
        "for i in range(0, len(shots_df)):\n",
        "    player_shot_list.append(shots_df.iloc[i]['player']['name'])\n",
        "extracted_data['player_shot'] = player_shot_list\n",
        "        \n",
        "# Player who shot's team\n",
        "team_list = []\n",
        "for i in range(0, len(shots_df)):\n",
        "    team_list.append(shots_df.iloc[i]['possession_team']['name'])\n",
        "extracted_data['team'] = team_list\n",
        "        \n",
        "# Bodypart used to shoot\n",
        "bodypart_list = []\n",
        "for i in range(0, len(shots_df)):\n",
        "    bodypart_list.append(shots_df.iloc[i]['shot']['body_part']['name'])\n",
        "extracted_data['bodypart'] = bodypart_list\n",
        "        \n",
        "# Technique used for shot\n",
        "technique_list = []\n",
        "for i in range(0, len(shots_df)):\n",
        "    technique_list.append(shots_df.iloc[i]['shot']['technique']['name'])\n",
        "extracted_data['technique'] = technique_list\n",
        "        \n",
        "# If the shot was taken with the player's 1st-touch\n",
        "first_time_list = []\n",
        "for i in range(0, len(shots_df)):\n",
        "    try:\n",
        "        first_time_list.append(shots_df.iloc[i]['shot']['first_time'])\n",
        "    except:\n",
        "        first_time_list.append(False)\n",
        "extracted_data['first_time'] = first_time_list\n",
        "        \n",
        "# State of play\n",
        "state_of_play_list = []\n",
        "for i in range(0, len(shots_df)):\n",
        "    state_of_play_list.append(shots_df.iloc[i]['shot']['type']['name'])\n",
        "extracted_data['state_of_play'] = state_of_play_list"
      ],
      "execution_count": null,
      "outputs": []
    },
    {
      "cell_type": "code",
      "metadata": {
        "colab": {
          "base_uri": "https://localhost:8080/",
          "height": 313
        },
        "id": "63oDJAk0kntL",
        "outputId": "a9dda503-a6c7-4718-f257-7f801dca672f"
      },
      "source": [
        "extracted_data.head()"
      ],
      "execution_count": null,
      "outputs": [
        {
          "output_type": "execute_result",
          "data": {
            "text/html": [
              "<div>\n",
              "<style scoped>\n",
              "    .dataframe tbody tr th:only-of-type {\n",
              "        vertical-align: middle;\n",
              "    }\n",
              "\n",
              "    .dataframe tbody tr th {\n",
              "        vertical-align: top;\n",
              "    }\n",
              "\n",
              "    .dataframe thead th {\n",
              "        text-align: right;\n",
              "    }\n",
              "</style>\n",
              "<table border=\"1\" class=\"dataframe\">\n",
              "  <thead>\n",
              "    <tr style=\"text-align: right;\">\n",
              "      <th></th>\n",
              "      <th>location_x</th>\n",
              "      <th>location_y</th>\n",
              "      <th>time</th>\n",
              "      <th>statsbomb_xg</th>\n",
              "      <th>outcome</th>\n",
              "      <th>player_shot</th>\n",
              "      <th>team</th>\n",
              "      <th>bodypart</th>\n",
              "      <th>technique</th>\n",
              "      <th>first_time</th>\n",
              "      <th>state_of_play</th>\n",
              "    </tr>\n",
              "  </thead>\n",
              "  <tbody>\n",
              "    <tr>\n",
              "      <th>0</th>\n",
              "      <td>109.0</td>\n",
              "      <td>46.0</td>\n",
              "      <td>2021-06-11 00:04:38.609</td>\n",
              "      <td>0.266154</td>\n",
              "      <td>Blocked</td>\n",
              "      <td>Francesca Kirby</td>\n",
              "      <td>Chelsea FCW</td>\n",
              "      <td>Left Foot</td>\n",
              "      <td>Normal</td>\n",
              "      <td>False</td>\n",
              "      <td>Open Play</td>\n",
              "    </tr>\n",
              "    <tr>\n",
              "      <th>1</th>\n",
              "      <td>113.0</td>\n",
              "      <td>35.0</td>\n",
              "      <td>2021-06-11 00:11:45.046</td>\n",
              "      <td>0.093521</td>\n",
              "      <td>Off T</td>\n",
              "      <td>Bethany England</td>\n",
              "      <td>Chelsea FCW</td>\n",
              "      <td>Head</td>\n",
              "      <td>Normal</td>\n",
              "      <td>False</td>\n",
              "      <td>Open Play</td>\n",
              "    </tr>\n",
              "    <tr>\n",
              "      <th>2</th>\n",
              "      <td>94.0</td>\n",
              "      <td>43.0</td>\n",
              "      <td>2021-06-11 00:18:03.461</td>\n",
              "      <td>0.036171</td>\n",
              "      <td>Saved</td>\n",
              "      <td>Drew Spence</td>\n",
              "      <td>Chelsea FCW</td>\n",
              "      <td>Left Foot</td>\n",
              "      <td>Normal</td>\n",
              "      <td>False</td>\n",
              "      <td>Open Play</td>\n",
              "    </tr>\n",
              "    <tr>\n",
              "      <th>3</th>\n",
              "      <td>86.0</td>\n",
              "      <td>34.0</td>\n",
              "      <td>2021-06-11 00:23:11.935</td>\n",
              "      <td>0.016625</td>\n",
              "      <td>Off T</td>\n",
              "      <td>Chloe Arthur</td>\n",
              "      <td>Birmingham City WFC</td>\n",
              "      <td>Left Foot</td>\n",
              "      <td>Normal</td>\n",
              "      <td>False</td>\n",
              "      <td>Open Play</td>\n",
              "    </tr>\n",
              "    <tr>\n",
              "      <th>4</th>\n",
              "      <td>94.0</td>\n",
              "      <td>33.0</td>\n",
              "      <td>2021-06-11 00:23:45.810</td>\n",
              "      <td>0.030716</td>\n",
              "      <td>Off T</td>\n",
              "      <td>Bethany England</td>\n",
              "      <td>Chelsea FCW</td>\n",
              "      <td>Right Foot</td>\n",
              "      <td>Normal</td>\n",
              "      <td>False</td>\n",
              "      <td>Open Play</td>\n",
              "    </tr>\n",
              "  </tbody>\n",
              "</table>\n",
              "</div>"
            ],
            "text/plain": [
              "   location_x  location_y  ... first_time  state_of_play\n",
              "0       109.0        46.0  ...      False      Open Play\n",
              "1       113.0        35.0  ...      False      Open Play\n",
              "2        94.0        43.0  ...      False      Open Play\n",
              "3        86.0        34.0  ...      False      Open Play\n",
              "4        94.0        33.0  ...      False      Open Play\n",
              "\n",
              "[5 rows x 11 columns]"
            ]
          },
          "metadata": {
            "tags": []
          },
          "execution_count": 125
        }
      ]
    },
    {
      "cell_type": "markdown",
      "metadata": {
        "id": "dxicXtxvksQI"
      },
      "source": [
        "## Assist-Specific Features"
      ]
    },
    {
      "cell_type": "code",
      "metadata": {
        "id": "NNst5O1xkqv_"
      },
      "source": [
        "# Defining and extracting features specific to\n",
        "# the pass which lead to the shot from\n",
        "# shots_df nested dictionaries\n",
        "\n",
        "# Add pass features to dataframe\n",
        "\n",
        "# Type of pass which lead to the shot\n",
        "assist_list = []\n",
        "\n",
        "for i in range(0, len(shots_df)):\n",
        "    try:\n",
        "        # Define 'key pass' within shots_df and events_df\n",
        "        key_pass = events_df['id'] == shots_df.iloc[i]['shot']['key_pass_id']\n",
        "        \n",
        "        # Define assist in events_df\n",
        "        assist_id = events_df[key_pass].dropna(axis = 'columns')['pass']\n",
        "        \n",
        "        assist_list.append(assist_id.iloc[0]['height']['name'])\n",
        "        \n",
        "    except KeyError:\n",
        "        assist_list.append(np.nan)\n",
        "        \n",
        "extracted_data['assist'] = assist_list\n",
        "\n",
        "# Second alternative source for type of pass\n",
        "# which lead to the shot\n",
        "assist2_list = []\n",
        "\n",
        "for i in range(0, len(shots_df)):\n",
        "    try:\n",
        "        # Define 'key pass' within shots_df and events_df\n",
        "        key_pass = events_df['id'] == shots_df.iloc[i]['shot']['key_pass_id']\n",
        "        \n",
        "        # Define assist in events_df\n",
        "        assist_id = events_df[key_pass].dropna(axis = 'columns')['pass']\n",
        "        \n",
        "        assist2_list.append(assist_id.iloc[0]['technique']['name'])\n",
        "        \n",
        "    except KeyError:\n",
        "        assist2_list.append(np.nan)\n",
        "\n",
        "extracted_data['assist2'] = assist2_list\n",
        "\n",
        "# Third alternative source for type of pass\n",
        "# which lead to the shot\n",
        "assist3_list = []\n",
        "\n",
        "for i in range(0, len(shots_df)):\n",
        "    try:\n",
        "        # Define 'key pass' within shots_df and events_df\n",
        "        key_pass = events_df['id'] == shots_df.iloc[i]['shot']['key_pass_id']\n",
        "        \n",
        "        # Define assist in events_df\n",
        "        assist_id = events_df[key_pass].dropna(axis = 'columns')['pass']\n",
        "        \n",
        "        if 'cross' in assist_id.iloc[0]:\n",
        "            assist3_list.append('Cross')\n",
        "        \n",
        "        elif 'cut_back' in assist_id.iloc[0]:\n",
        "            assist3_list.append('Cut Back')\n",
        "        \n",
        "        elif 'through_ball' in assist_id.iloc[0]:\n",
        "            assist3_list.append('Through Ball')\n",
        "        \n",
        "        else:\n",
        "            assist3_list.append(np.nan)\n",
        "        \n",
        "    except KeyError:\n",
        "        assist3_list.append(np.nan)\n",
        "\n",
        "extracted_data['assist3'] = assist3_list\n",
        "\n",
        "# State of play for pass which lead to the shot\n",
        "assist_state_of_play_list = []\n",
        "for i in range(0, len(shots_df)):\n",
        "    try:\n",
        "        # Define 'key pass' within shots_df and events_df\n",
        "        key_pass = events_df['id'] == shots_df.iloc[i]['shot']['key_pass_id']\n",
        "        \n",
        "        # Define assist in events_df\n",
        "        assist_play_id = events_df[key_pass]['play_pattern']\n",
        "        \n",
        "        assist_state_of_play_list.append(assist_play_id.iloc[0]['name'])\n",
        "\n",
        "    except KeyError:\n",
        "        assist_state_of_play_list.append(np.nan)\n",
        "\n",
        "extracted_data['assist_state_of_play'] = assist_state_of_play_list"
      ],
      "execution_count": null,
      "outputs": []
    },
    {
      "cell_type": "code",
      "metadata": {
        "id": "uLBxxNYxk1Rz"
      },
      "source": [
        "extracted_data.head()"
      ],
      "execution_count": null,
      "outputs": []
    },
    {
      "cell_type": "code",
      "metadata": {
        "id": "9Q08Ad1wymmB"
      },
      "source": [
        "organized_data = extracted_data\n",
        "organized_data.to_csv('/content/drive/MyDrive/flatiron/expected_goals/data_organization/organized_data.csv')"
      ],
      "execution_count": null,
      "outputs": []
    },
    {
      "cell_type": "markdown",
      "metadata": {
        "id": "Jlm-FSU94PSS"
      },
      "source": [
        "Continued in [expected_goals_feature_engineering_notebook](https://github.com/wswager/expected_goals/blob/main/feature_engineering/expected_goals_data_feature_engineering_notebook.ipynb)"
      ]
    }
  ]
}
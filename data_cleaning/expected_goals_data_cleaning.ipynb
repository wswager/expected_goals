{
 "cells": [
  {
   "cell_type": "markdown",
   "metadata": {},
   "source": [
    "### Capstone Project Submission\n",
    "\n",
    "* Student Name: Wes Swager\n",
    "* Student Pace: Full Time\n",
    "* Instructor Name: Claude Fried\n",
    "* Scheduled Project Review Date/Time\n",
    "    * Unknown"
   ]
  },
  {
   "cell_type": "markdown",
   "metadata": {},
   "source": [
    "# Data Cleaning"
   ]
  },
  {
   "cell_type": "markdown",
   "metadata": {},
   "source": [
    "<a id = 'proposal'></a>\n",
    "### Proposal\n",
    "\n",
    "**Problem Statement**\n",
    "\n",
    "Create an expected goals metric using existing historical data which can be used to analyze future match data and provide specific recommendations to be utilized in following training to help improve the likelihood of goals.\n",
    "\n",
    "**Supervised Learning Target**\n",
    "\n",
    "Classification model which predicts the likelihood of a goal (percentage) given data features specific to the shot and preceding play.\n",
    "\n",
    "**Data Source**\n",
    "\n",
    "[StatsBomb Open Data](https://github.com/statsbomb/open-data)"
   ]
  },
  {
   "cell_type": "markdown",
   "metadata": {},
   "source": [
    "# Contents\n",
    "\n",
    "* **[Proposal](#proposal)**\n",
    "* **[Packages](#packages)**\n",
    "* **[Data](#data)**"
   ]
  },
  {
   "cell_type": "markdown",
   "metadata": {},
   "source": [
    "<a id = 'packages'></a>\n",
    "# Packages"
   ]
  },
  {
   "cell_type": "code",
   "execution_count": 1,
   "metadata": {},
   "outputs": [],
   "source": [
    "# Pandas for Dataframes\n",
    "import pandas as pd\n",
    "\n",
    "# Numpy and Math for mathematical functions\n",
    "import numpy as np\n",
    "\n",
    "import warnings\n",
    "warnings.filterwarnings('ignore')"
   ]
  },
  {
   "cell_type": "markdown",
   "metadata": {},
   "source": [
    "<a id = 'data'></a>\n",
    "# Data"
   ]
  },
  {
   "cell_type": "markdown",
   "metadata": {},
   "source": [
    "Data extracted from [StatsBomb Open Data](https://github.com/statsbomb/open-data) in [expected_goals_data_extraction_notebook](https://github.com/wswager/expected_goals/blob/main/notebooks/expected_goals_data_extraction_notebook.ipynb)"
   ]
  },
  {
   "cell_type": "code",
   "execution_count": 2,
   "metadata": {},
   "outputs": [],
   "source": [
    "# Import dataframes extracted from\n",
    "# expected_goals_data_extraction_notebook\n",
    "\n",
    "%store -r extracted_data"
   ]
  },
  {
   "cell_type": "code",
   "execution_count": 3,
   "metadata": {},
   "outputs": [
    {
     "data": {
      "text/html": [
       "<div>\n",
       "<style scoped>\n",
       "    .dataframe tbody tr th:only-of-type {\n",
       "        vertical-align: middle;\n",
       "    }\n",
       "\n",
       "    .dataframe tbody tr th {\n",
       "        vertical-align: top;\n",
       "    }\n",
       "\n",
       "    .dataframe thead th {\n",
       "        text-align: right;\n",
       "    }\n",
       "</style>\n",
       "<table border=\"1\" class=\"dataframe\">\n",
       "  <thead>\n",
       "    <tr style=\"text-align: right;\">\n",
       "      <th></th>\n",
       "      <th>location_x</th>\n",
       "      <th>location_y</th>\n",
       "      <th>time</th>\n",
       "      <th>statsbomb_xg</th>\n",
       "      <th>outcome</th>\n",
       "      <th>player_shot</th>\n",
       "      <th>team</th>\n",
       "      <th>bodypart</th>\n",
       "      <th>technique</th>\n",
       "      <th>first_time</th>\n",
       "      <th>state_of_play</th>\n",
       "      <th>assist</th>\n",
       "      <th>assist2</th>\n",
       "      <th>assist3</th>\n",
       "      <th>assist_state_of_play</th>\n",
       "    </tr>\n",
       "  </thead>\n",
       "  <tbody>\n",
       "    <tr>\n",
       "      <th>0</th>\n",
       "      <td>109.0</td>\n",
       "      <td>46.0</td>\n",
       "      <td>2021-06-05 00:04:38.609</td>\n",
       "      <td>0.266154</td>\n",
       "      <td>Blocked</td>\n",
       "      <td>Francesca Kirby</td>\n",
       "      <td>Chelsea FCW</td>\n",
       "      <td>Left Foot</td>\n",
       "      <td>Normal</td>\n",
       "      <td>False</td>\n",
       "      <td>Open Play</td>\n",
       "      <td>Ground Pass</td>\n",
       "      <td>NaN</td>\n",
       "      <td>NaN</td>\n",
       "      <td>Regular Play</td>\n",
       "    </tr>\n",
       "    <tr>\n",
       "      <th>1</th>\n",
       "      <td>113.0</td>\n",
       "      <td>35.0</td>\n",
       "      <td>2021-06-05 00:11:45.046</td>\n",
       "      <td>0.093521</td>\n",
       "      <td>Off T</td>\n",
       "      <td>Bethany England</td>\n",
       "      <td>Chelsea FCW</td>\n",
       "      <td>Head</td>\n",
       "      <td>Normal</td>\n",
       "      <td>False</td>\n",
       "      <td>Open Play</td>\n",
       "      <td>High Pass</td>\n",
       "      <td>NaN</td>\n",
       "      <td>NaN</td>\n",
       "      <td>From Free Kick</td>\n",
       "    </tr>\n",
       "    <tr>\n",
       "      <th>2</th>\n",
       "      <td>94.0</td>\n",
       "      <td>43.0</td>\n",
       "      <td>2021-06-05 00:18:03.461</td>\n",
       "      <td>0.036171</td>\n",
       "      <td>Saved</td>\n",
       "      <td>Drew Spence</td>\n",
       "      <td>Chelsea FCW</td>\n",
       "      <td>Left Foot</td>\n",
       "      <td>Normal</td>\n",
       "      <td>False</td>\n",
       "      <td>Open Play</td>\n",
       "      <td>Ground Pass</td>\n",
       "      <td>NaN</td>\n",
       "      <td>NaN</td>\n",
       "      <td>Regular Play</td>\n",
       "    </tr>\n",
       "    <tr>\n",
       "      <th>3</th>\n",
       "      <td>86.0</td>\n",
       "      <td>34.0</td>\n",
       "      <td>2021-06-05 00:23:11.935</td>\n",
       "      <td>0.016625</td>\n",
       "      <td>Off T</td>\n",
       "      <td>Chloe Arthur</td>\n",
       "      <td>Birmingham City WFC</td>\n",
       "      <td>Left Foot</td>\n",
       "      <td>Normal</td>\n",
       "      <td>False</td>\n",
       "      <td>Open Play</td>\n",
       "      <td>Ground Pass</td>\n",
       "      <td>NaN</td>\n",
       "      <td>NaN</td>\n",
       "      <td>From Goal Kick</td>\n",
       "    </tr>\n",
       "    <tr>\n",
       "      <th>4</th>\n",
       "      <td>94.0</td>\n",
       "      <td>33.0</td>\n",
       "      <td>2021-06-05 00:23:45.810</td>\n",
       "      <td>0.030716</td>\n",
       "      <td>Off T</td>\n",
       "      <td>Bethany England</td>\n",
       "      <td>Chelsea FCW</td>\n",
       "      <td>Right Foot</td>\n",
       "      <td>Normal</td>\n",
       "      <td>False</td>\n",
       "      <td>Open Play</td>\n",
       "      <td>Ground Pass</td>\n",
       "      <td>NaN</td>\n",
       "      <td>NaN</td>\n",
       "      <td>From Goal Kick</td>\n",
       "    </tr>\n",
       "  </tbody>\n",
       "</table>\n",
       "</div>"
      ],
      "text/plain": [
       "   location_x  location_y                    time  statsbomb_xg  outcome  \\\n",
       "0       109.0        46.0 2021-06-05 00:04:38.609      0.266154  Blocked   \n",
       "1       113.0        35.0 2021-06-05 00:11:45.046      0.093521    Off T   \n",
       "2        94.0        43.0 2021-06-05 00:18:03.461      0.036171    Saved   \n",
       "3        86.0        34.0 2021-06-05 00:23:11.935      0.016625    Off T   \n",
       "4        94.0        33.0 2021-06-05 00:23:45.810      0.030716    Off T   \n",
       "\n",
       "       player_shot                 team    bodypart technique  first_time  \\\n",
       "0  Francesca Kirby          Chelsea FCW   Left Foot    Normal       False   \n",
       "1  Bethany England          Chelsea FCW        Head    Normal       False   \n",
       "2      Drew Spence          Chelsea FCW   Left Foot    Normal       False   \n",
       "3     Chloe Arthur  Birmingham City WFC   Left Foot    Normal       False   \n",
       "4  Bethany England          Chelsea FCW  Right Foot    Normal       False   \n",
       "\n",
       "  state_of_play       assist assist2 assist3 assist_state_of_play  \n",
       "0     Open Play  Ground Pass     NaN     NaN         Regular Play  \n",
       "1     Open Play    High Pass     NaN     NaN       From Free Kick  \n",
       "2     Open Play  Ground Pass     NaN     NaN         Regular Play  \n",
       "3     Open Play  Ground Pass     NaN     NaN       From Goal Kick  \n",
       "4     Open Play  Ground Pass     NaN     NaN       From Goal Kick  "
      ]
     },
     "execution_count": 3,
     "metadata": {},
     "output_type": "execute_result"
    }
   ],
   "source": [
    "extracted_data.head()"
   ]
  },
  {
   "cell_type": "markdown",
   "metadata": {},
   "source": [
    "# Outcome"
   ]
  },
  {
   "cell_type": "code",
   "execution_count": 4,
   "metadata": {
    "scrolled": true
   },
   "outputs": [
    {
     "data": {
      "text/plain": [
       "Off T               1921\n",
       "Saved               1537\n",
       "Blocked             1467\n",
       "Goal                 666\n",
       "Wayward              336\n",
       "Post                 136\n",
       "Saved Off Target      24\n",
       "Saved to Post         17\n",
       "Name: outcome, dtype: int64"
      ]
     },
     "execution_count": 4,
     "metadata": {},
     "output_type": "execute_result"
    }
   ],
   "source": [
    "extracted_data['outcome'].value_counts()"
   ]
  },
  {
   "cell_type": "code",
   "execution_count": 5,
   "metadata": {},
   "outputs": [],
   "source": [
    "# Combine similar values for outcome\n",
    "\n",
    "extracted_data['outcome'].replace({'Off T' : 'Off Target',\n",
    "                                   'Wayward' : 'Off Target',\n",
    "                                   'Post' : 'Off Target',\n",
    "                                   'Saved Off Target' : 'Saved',\n",
    "                                   'Saved to Post' : 'Saved'},\n",
    "                                 inplace = True)"
   ]
  },
  {
   "cell_type": "code",
   "execution_count": 6,
   "metadata": {},
   "outputs": [
    {
     "data": {
      "text/plain": [
       "Off Target    2393\n",
       "Saved         1578\n",
       "Blocked       1467\n",
       "Goal           666\n",
       "Name: outcome, dtype: int64"
      ]
     },
     "execution_count": 6,
     "metadata": {},
     "output_type": "execute_result"
    }
   ],
   "source": [
    "extracted_data['outcome'].value_counts()"
   ]
  },
  {
   "cell_type": "markdown",
   "metadata": {},
   "source": [
    "# Bodypart"
   ]
  },
  {
   "cell_type": "code",
   "execution_count": 7,
   "metadata": {
    "scrolled": true
   },
   "outputs": [
    {
     "data": {
      "text/plain": [
       "Right Foot    3493\n",
       "Left Foot     1676\n",
       "Head           926\n",
       "Other            9\n",
       "Name: bodypart, dtype: int64"
      ]
     },
     "execution_count": 7,
     "metadata": {},
     "output_type": "execute_result"
    }
   ],
   "source": [
    "extracted_data['bodypart'].value_counts()"
   ]
  },
  {
   "cell_type": "markdown",
   "metadata": {},
   "source": [
    "# Technique"
   ]
  },
  {
   "cell_type": "code",
   "execution_count": 8,
   "metadata": {},
   "outputs": [
    {
     "data": {
      "text/plain": [
       "Normal           5154\n",
       "Half Volley       509\n",
       "Volley            337\n",
       "Lob                55\n",
       "Backheel           20\n",
       "Diving Header      15\n",
       "Overhead Kick      14\n",
       "Name: technique, dtype: int64"
      ]
     },
     "execution_count": 8,
     "metadata": {},
     "output_type": "execute_result"
    }
   ],
   "source": [
    "extracted_data['technique'].value_counts()"
   ]
  },
  {
   "cell_type": "code",
   "execution_count": 9,
   "metadata": {},
   "outputs": [],
   "source": [
    "extracted_data['technique'].replace({'Lob' : 'Normal',\n",
    "                                     'Backheel' : 'Normal',\n",
    "                                     'Diving Header' : 'Volley',\n",
    "                                     'Overhead Kick' : 'Volley'},\n",
    "                                    inplace = True)"
   ]
  },
  {
   "cell_type": "code",
   "execution_count": 10,
   "metadata": {},
   "outputs": [
    {
     "data": {
      "text/plain": [
       "Normal         5229\n",
       "Half Volley     509\n",
       "Volley          366\n",
       "Name: technique, dtype: int64"
      ]
     },
     "execution_count": 10,
     "metadata": {},
     "output_type": "execute_result"
    }
   ],
   "source": [
    "extracted_data['technique'].value_counts()"
   ]
  },
  {
   "cell_type": "markdown",
   "metadata": {},
   "source": [
    "# Combine Assist Values"
   ]
  },
  {
   "cell_type": "code",
   "execution_count": 11,
   "metadata": {},
   "outputs": [
    {
     "data": {
      "text/plain": [
       "Ground Pass    2088\n",
       "High Pass      1532\n",
       "Low Pass        531\n",
       "Name: assist, dtype: int64"
      ]
     },
     "execution_count": 11,
     "metadata": {},
     "output_type": "execute_result"
    }
   ],
   "source": [
    "extracted_data['assist'].value_counts()"
   ]
  },
  {
   "cell_type": "code",
   "execution_count": 12,
   "metadata": {},
   "outputs": [
    {
     "data": {
      "text/plain": [
       "Through Ball    200\n",
       "Inswinging       76\n",
       "Outswinging      56\n",
       "Straight         26\n",
       "Name: assist2, dtype: int64"
      ]
     },
     "execution_count": 12,
     "metadata": {},
     "output_type": "execute_result"
    }
   ],
   "source": [
    "extracted_data['assist2'].value_counts()"
   ]
  },
  {
   "cell_type": "code",
   "execution_count": 13,
   "metadata": {},
   "outputs": [
    {
     "data": {
      "text/plain": [
       "Cross           758\n",
       "Through Ball    197\n",
       "Cut Back         45\n",
       "Name: assist3, dtype: int64"
      ]
     },
     "execution_count": 13,
     "metadata": {},
     "output_type": "execute_result"
    }
   ],
   "source": [
    "extracted_data['assist3'].value_counts()"
   ]
  },
  {
   "cell_type": "code",
   "execution_count": 14,
   "metadata": {},
   "outputs": [],
   "source": [
    "# Replace specific types of crosses from 'technique' feature\n",
    "# with standard 'cross' from 'pass' feature\n",
    "\n",
    "extracted_data['assist2'].replace({'Outswinging' : 'Cross',\n",
    "                                   'Straight' : 'Cross',\n",
    "                                   'Inswinging' : 'Cross'},\n",
    "                                 inplace = True)\n",
    "\n",
    "# Combined three sources of assist data into single column\n",
    "\n",
    "extracted_data['assist3'].fillna(extracted_data['assist2'], inplace = True)\n",
    "extracted_data['assist3'].fillna(extracted_data['assist'], inplace = True)\n",
    "\n",
    "extracted_data.drop(['assist', 'assist2'], axis = 1, inplace = True)\n",
    "\n",
    "extracted_data.rename(columns = {'assist3': 'assist'},\n",
    "                      inplace = True)"
   ]
  },
  {
   "cell_type": "code",
   "execution_count": 15,
   "metadata": {},
   "outputs": [
    {
     "data": {
      "text/plain": [
       "Ground Pass     1787\n",
       "Cross            916\n",
       "High Pass        830\n",
       "Low Pass         376\n",
       "Through Ball     197\n",
       "Cut Back          45\n",
       "Name: assist, dtype: int64"
      ]
     },
     "execution_count": 15,
     "metadata": {},
     "output_type": "execute_result"
    }
   ],
   "source": [
    "extracted_data['assist'].value_counts()"
   ]
  },
  {
   "cell_type": "markdown",
   "metadata": {},
   "source": [
    "# Match State of Play v Assist State of Play Values"
   ]
  },
  {
   "cell_type": "code",
   "execution_count": 16,
   "metadata": {},
   "outputs": [
    {
     "data": {
      "text/plain": [
       "Open Play    5858\n",
       "Free Kick     191\n",
       "Penalty        53\n",
       "Corner          2\n",
       "Name: state_of_play, dtype: int64"
      ]
     },
     "execution_count": 16,
     "metadata": {},
     "output_type": "execute_result"
    }
   ],
   "source": [
    "extracted_data['state_of_play'].value_counts()"
   ]
  },
  {
   "cell_type": "code",
   "execution_count": 17,
   "metadata": {},
   "outputs": [
    {
     "data": {
      "text/plain": [
       "Regular Play      1608\n",
       "From Throw In      844\n",
       "From Corner        667\n",
       "From Free Kick     489\n",
       "From Counter       296\n",
       "From Goal Kick     146\n",
       "From Keeper         48\n",
       "From Kick Off       45\n",
       "Other                8\n",
       "Name: assist_state_of_play, dtype: int64"
      ]
     },
     "execution_count": 17,
     "metadata": {},
     "output_type": "execute_result"
    }
   ],
   "source": [
    "extracted_data['assist_state_of_play'].value_counts()"
   ]
  },
  {
   "cell_type": "code",
   "execution_count": 18,
   "metadata": {},
   "outputs": [],
   "source": [
    "# Replace value names for state_of_play and assist_state_of_play\n",
    "# for consistency\n",
    "\n",
    "extracted_data['state_of_play'].replace({'Free Kick' : 'Set Piece',\n",
    "                                         'Penalty' : 'Set Piece',\n",
    "                                         'Corner' : 'Set Piece'},\n",
    "                                        inplace = True)\n",
    "\n",
    "extracted_data['assist_state_of_play'].replace({'From Free Kick' : 'Set Piece'},\n",
    "                                               inplace = True)\n",
    "\n",
    "# Assume because only 'From Freekick' is specified,\n",
    "# the remainder are 'Open Play'\n",
    "\n",
    "extracted_data['assist_state_of_play'].fillna('Open Play',\n",
    "                                              inplace = True)"
   ]
  },
  {
   "cell_type": "code",
   "execution_count": 19,
   "metadata": {},
   "outputs": [
    {
     "data": {
      "text/plain": [
       "Open Play    5858\n",
       "Set Piece     246\n",
       "Name: state_of_play, dtype: int64"
      ]
     },
     "execution_count": 19,
     "metadata": {},
     "output_type": "execute_result"
    }
   ],
   "source": [
    "extracted_data['state_of_play'].value_counts()"
   ]
  },
  {
   "cell_type": "code",
   "execution_count": 20,
   "metadata": {},
   "outputs": [
    {
     "data": {
      "text/plain": [
       "Open Play         1953\n",
       "Regular Play      1608\n",
       "From Throw In      844\n",
       "From Corner        667\n",
       "Set Piece          489\n",
       "From Counter       296\n",
       "From Goal Kick     146\n",
       "From Keeper         48\n",
       "From Kick Off       45\n",
       "Other                8\n",
       "Name: assist_state_of_play, dtype: int64"
      ]
     },
     "execution_count": 20,
     "metadata": {},
     "output_type": "execute_result"
    }
   ],
   "source": [
    "extracted_data['assist_state_of_play'].value_counts()"
   ]
  },
  {
   "cell_type": "markdown",
   "metadata": {},
   "source": [
    "# Fill NA values"
   ]
  },
  {
   "cell_type": "code",
   "execution_count": 21,
   "metadata": {},
   "outputs": [
    {
     "name": "stdout",
     "output_type": "stream",
     "text": [
      "<class 'pandas.core.frame.DataFrame'>\n",
      "RangeIndex: 6104 entries, 0 to 6103\n",
      "Data columns (total 13 columns):\n",
      " #   Column                Non-Null Count  Dtype         \n",
      "---  ------                --------------  -----         \n",
      " 0   location_x            6104 non-null   float64       \n",
      " 1   location_y            6104 non-null   float64       \n",
      " 2   time                  6104 non-null   datetime64[ns]\n",
      " 3   statsbomb_xg          6104 non-null   float64       \n",
      " 4   outcome               6104 non-null   object        \n",
      " 5   player_shot           6104 non-null   object        \n",
      " 6   team                  6104 non-null   object        \n",
      " 7   bodypart              6104 non-null   object        \n",
      " 8   technique             6104 non-null   object        \n",
      " 9   first_time            6104 non-null   bool          \n",
      " 10  state_of_play         6104 non-null   object        \n",
      " 11  assist                4151 non-null   object        \n",
      " 12  assist_state_of_play  6104 non-null   object        \n",
      "dtypes: bool(1), datetime64[ns](1), float64(3), object(8)\n",
      "memory usage: 578.3+ KB\n"
     ]
    }
   ],
   "source": [
    "extracted_data.info()"
   ]
  },
  {
   "cell_type": "code",
   "execution_count": 22,
   "metadata": {},
   "outputs": [],
   "source": [
    "# Fill NA values for assist with 'None'\n",
    "\n",
    "extracted_data['assist'].fillna('None',\n",
    "                                inplace = True)"
   ]
  },
  {
   "cell_type": "markdown",
   "metadata": {},
   "source": [
    "# Reorder Columns"
   ]
  },
  {
   "cell_type": "code",
   "execution_count": 23,
   "metadata": {},
   "outputs": [],
   "source": [
    "extracted_data = extracted_data[['statsbomb_xg',\n",
    "                                 'outcome',\n",
    "                                 'time',\n",
    "                                 'player_shot',\n",
    "                                 'team',\n",
    "                                 'location_x',\n",
    "                                 'location_y',\n",
    "                                 'bodypart',\n",
    "                                 'technique',\n",
    "                                 'first_time',\n",
    "                                 'state_of_play',\n",
    "                                 'assist',\n",
    "                                 'assist_state_of_play']]"
   ]
  },
  {
   "cell_type": "markdown",
   "metadata": {},
   "source": [
    "# Cleaned Data"
   ]
  },
  {
   "cell_type": "code",
   "execution_count": 24,
   "metadata": {},
   "outputs": [
    {
     "data": {
      "text/html": [
       "<div>\n",
       "<style scoped>\n",
       "    .dataframe tbody tr th:only-of-type {\n",
       "        vertical-align: middle;\n",
       "    }\n",
       "\n",
       "    .dataframe tbody tr th {\n",
       "        vertical-align: top;\n",
       "    }\n",
       "\n",
       "    .dataframe thead th {\n",
       "        text-align: right;\n",
       "    }\n",
       "</style>\n",
       "<table border=\"1\" class=\"dataframe\">\n",
       "  <thead>\n",
       "    <tr style=\"text-align: right;\">\n",
       "      <th></th>\n",
       "      <th>statsbomb_xg</th>\n",
       "      <th>outcome</th>\n",
       "      <th>time</th>\n",
       "      <th>player_shot</th>\n",
       "      <th>team</th>\n",
       "      <th>location_x</th>\n",
       "      <th>location_y</th>\n",
       "      <th>bodypart</th>\n",
       "      <th>technique</th>\n",
       "      <th>first_time</th>\n",
       "      <th>state_of_play</th>\n",
       "      <th>assist</th>\n",
       "      <th>assist_state_of_play</th>\n",
       "    </tr>\n",
       "  </thead>\n",
       "  <tbody>\n",
       "    <tr>\n",
       "      <th>0</th>\n",
       "      <td>0.266154</td>\n",
       "      <td>Blocked</td>\n",
       "      <td>2021-06-05 00:04:38.609</td>\n",
       "      <td>Francesca Kirby</td>\n",
       "      <td>Chelsea FCW</td>\n",
       "      <td>109.0</td>\n",
       "      <td>46.0</td>\n",
       "      <td>Left Foot</td>\n",
       "      <td>Normal</td>\n",
       "      <td>False</td>\n",
       "      <td>Open Play</td>\n",
       "      <td>Ground Pass</td>\n",
       "      <td>Regular Play</td>\n",
       "    </tr>\n",
       "    <tr>\n",
       "      <th>1</th>\n",
       "      <td>0.093521</td>\n",
       "      <td>Off Target</td>\n",
       "      <td>2021-06-05 00:11:45.046</td>\n",
       "      <td>Bethany England</td>\n",
       "      <td>Chelsea FCW</td>\n",
       "      <td>113.0</td>\n",
       "      <td>35.0</td>\n",
       "      <td>Head</td>\n",
       "      <td>Normal</td>\n",
       "      <td>False</td>\n",
       "      <td>Open Play</td>\n",
       "      <td>High Pass</td>\n",
       "      <td>Set Piece</td>\n",
       "    </tr>\n",
       "    <tr>\n",
       "      <th>2</th>\n",
       "      <td>0.036171</td>\n",
       "      <td>Saved</td>\n",
       "      <td>2021-06-05 00:18:03.461</td>\n",
       "      <td>Drew Spence</td>\n",
       "      <td>Chelsea FCW</td>\n",
       "      <td>94.0</td>\n",
       "      <td>43.0</td>\n",
       "      <td>Left Foot</td>\n",
       "      <td>Normal</td>\n",
       "      <td>False</td>\n",
       "      <td>Open Play</td>\n",
       "      <td>Ground Pass</td>\n",
       "      <td>Regular Play</td>\n",
       "    </tr>\n",
       "    <tr>\n",
       "      <th>3</th>\n",
       "      <td>0.016625</td>\n",
       "      <td>Off Target</td>\n",
       "      <td>2021-06-05 00:23:11.935</td>\n",
       "      <td>Chloe Arthur</td>\n",
       "      <td>Birmingham City WFC</td>\n",
       "      <td>86.0</td>\n",
       "      <td>34.0</td>\n",
       "      <td>Left Foot</td>\n",
       "      <td>Normal</td>\n",
       "      <td>False</td>\n",
       "      <td>Open Play</td>\n",
       "      <td>Ground Pass</td>\n",
       "      <td>From Goal Kick</td>\n",
       "    </tr>\n",
       "    <tr>\n",
       "      <th>4</th>\n",
       "      <td>0.030716</td>\n",
       "      <td>Off Target</td>\n",
       "      <td>2021-06-05 00:23:45.810</td>\n",
       "      <td>Bethany England</td>\n",
       "      <td>Chelsea FCW</td>\n",
       "      <td>94.0</td>\n",
       "      <td>33.0</td>\n",
       "      <td>Right Foot</td>\n",
       "      <td>Normal</td>\n",
       "      <td>False</td>\n",
       "      <td>Open Play</td>\n",
       "      <td>Ground Pass</td>\n",
       "      <td>From Goal Kick</td>\n",
       "    </tr>\n",
       "  </tbody>\n",
       "</table>\n",
       "</div>"
      ],
      "text/plain": [
       "   statsbomb_xg     outcome                    time      player_shot  \\\n",
       "0      0.266154     Blocked 2021-06-05 00:04:38.609  Francesca Kirby   \n",
       "1      0.093521  Off Target 2021-06-05 00:11:45.046  Bethany England   \n",
       "2      0.036171       Saved 2021-06-05 00:18:03.461      Drew Spence   \n",
       "3      0.016625  Off Target 2021-06-05 00:23:11.935     Chloe Arthur   \n",
       "4      0.030716  Off Target 2021-06-05 00:23:45.810  Bethany England   \n",
       "\n",
       "                  team  location_x  location_y    bodypart technique  \\\n",
       "0          Chelsea FCW       109.0        46.0   Left Foot    Normal   \n",
       "1          Chelsea FCW       113.0        35.0        Head    Normal   \n",
       "2          Chelsea FCW        94.0        43.0   Left Foot    Normal   \n",
       "3  Birmingham City WFC        86.0        34.0   Left Foot    Normal   \n",
       "4          Chelsea FCW        94.0        33.0  Right Foot    Normal   \n",
       "\n",
       "   first_time state_of_play       assist assist_state_of_play  \n",
       "0       False     Open Play  Ground Pass         Regular Play  \n",
       "1       False     Open Play    High Pass            Set Piece  \n",
       "2       False     Open Play  Ground Pass         Regular Play  \n",
       "3       False     Open Play  Ground Pass       From Goal Kick  \n",
       "4       False     Open Play  Ground Pass       From Goal Kick  "
      ]
     },
     "execution_count": 24,
     "metadata": {},
     "output_type": "execute_result"
    }
   ],
   "source": [
    "cleaned_data = extracted_data\n",
    "cleaned_data.head()"
   ]
  },
  {
   "cell_type": "code",
   "execution_count": 25,
   "metadata": {},
   "outputs": [
    {
     "name": "stdout",
     "output_type": "stream",
     "text": [
      "Stored 'cleaned_data' (DataFrame)\n"
     ]
    }
   ],
   "source": [
    "cleaned_data.to_csv(r'C:\\Users\\westi\\Documents\\github\\expected_goals\\data\\saved_dataframes\\data_cleaning\\cleaned_data.csv')\n",
    "%store cleaned_data"
   ]
  },
  {
   "cell_type": "code",
   "execution_count": null,
   "metadata": {},
   "outputs": [],
   "source": []
  }
 ],
 "metadata": {
  "kernelspec": {
   "display_name": "Python 3",
   "language": "python",
   "name": "python3"
  },
  "language_info": {
   "codemirror_mode": {
    "name": "ipython",
    "version": 3
   },
   "file_extension": ".py",
   "mimetype": "text/x-python",
   "name": "python",
   "nbconvert_exporter": "python",
   "pygments_lexer": "ipython3",
   "version": "3.8.5"
  }
 },
 "nbformat": 4,
 "nbformat_minor": 4
}

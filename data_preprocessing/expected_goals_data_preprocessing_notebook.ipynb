{
  "nbformat": 4,
  "nbformat_minor": 0,
  "metadata": {
    "kernelspec": {
      "display_name": "Python 3",
      "language": "python",
      "name": "python3"
    },
    "language_info": {
      "codemirror_mode": {
        "name": "ipython",
        "version": 3
      },
      "file_extension": ".py",
      "mimetype": "text/x-python",
      "name": "python",
      "nbconvert_exporter": "python",
      "pygments_lexer": "ipython3",
      "version": "3.8.5"
    },
    "colab": {
      "name": "expected_goals_data_preprocessing_notebook.ipynb",
      "provenance": [],
      "collapsed_sections": [],
      "include_colab_link": true
    }
  },
  "cells": [
    {
      "cell_type": "markdown",
      "metadata": {
        "id": "view-in-github",
        "colab_type": "text"
      },
      "source": [
        "<a href=\"https://colab.research.google.com/github/wswager/expected_goals/blob/main/data_preprocessing/expected_goals_data_preprocessing_notebook.ipynb\" target=\"_parent\"><img src=\"https://colab.research.google.com/assets/colab-badge.svg\" alt=\"Open In Colab\"/></a>"
      ]
    },
    {
      "cell_type": "markdown",
      "metadata": {
        "id": "euP03jegmKws"
      },
      "source": [
        "\n",
        "**Capstone Project Submission**\n",
        "\n",
        "* Student Name: Wes Swager\n",
        "* Student Pace: Full Time\n",
        "* Instructor Name: Claude Fried\n",
        "* Scheduled Project Review Date/Time\n",
        "    * Friday, June, 11, 2:30pm CST"
      ]
    },
    {
      "cell_type": "markdown",
      "metadata": {
        "id": "fyoc2ck7mKw4"
      },
      "source": [
        "# Data Preprocessing Notebook"
      ]
    },
    {
      "cell_type": "markdown",
      "metadata": {
        "id": "fTOmD_j9mKxA"
      },
      "source": [
        "<a id = 'packages'></a>\n",
        "# Packages"
      ]
    },
    {
      "cell_type": "code",
      "metadata": {
        "colab": {
          "base_uri": "https://localhost:8080/"
        },
        "id": "wXDUaWjHmKxC",
        "outputId": "82372e28-fc9e-48bd-ded8-9194ebd4c447"
      },
      "source": [
        "# Drive  and IO to access saved data\n",
        "from google.colab import drive, files\n",
        "drive.mount('/content/drive')\n",
        "\n",
        "import io\n",
        "\n",
        "# Pandas for Dataframes\n",
        "import pandas as pd\n",
        "\n",
        "# Numpy and for mathematical functions\n",
        "import numpy as np\n",
        "\n",
        "# Import Scikit-learn for modeling\n",
        "import sklearn\n",
        "from sklearn.preprocessing import LabelEncoder, OneHotEncoder, MinMaxScaler\n",
        "from sklearn.compose import ColumnTransformer\n",
        "\n",
        "import warnings\n",
        "warnings.filterwarnings('ignore')"
      ],
      "execution_count": null,
      "outputs": [
        {
          "output_type": "stream",
          "text": [
            "Drive already mounted at /content/drive; to attempt to forcibly remount, call drive.mount(\"/content/drive\", force_remount=True).\n"
          ],
          "name": "stdout"
        }
      ]
    },
    {
      "cell_type": "markdown",
      "metadata": {
        "id": "4ia-FgMTmKxH"
      },
      "source": [
        "<a id = 'data'></a>\n",
        "# Data"
      ]
    },
    {
      "cell_type": "markdown",
      "metadata": {
        "id": "P_m7cVRomKxI"
      },
      "source": [
        "1. Data sourced from [StatsBomb Open Data](https://github.com/statsbomb/open-data)\n",
        "2. Data extracted in [expected_goals_data_extraction_notebook](https://github.com/wswager/expected_goals/blob/main/data_extraction/expected_goals_data_extraction_notebook.ipynb)\n",
        "3. Data organized in [expected_goals_data_organization_notebook](https://github.com/wswager/expected_goals/blob/main/data_organization/expected_goals_data_organization_notebook.ipynb)\n",
        "4. Features engineered in [expected_goals_feature_engineering_notebook](https://github.com/wswager/expected_goals/blob/main/feature_engineering/expected_goals_feature_engineering_notebook.ipynb)\n",
        "5. Data cleaned in [expected_goals_data_cleaning_notebook](https://github.com/wswager/expected_goals/blob/main/data_cleaning/expected_goals_data_cleaning_notebook.ipynb)"
      ]
    },
    {
      "cell_type": "code",
      "metadata": {
        "id": "lO4BFJpqok7D"
      },
      "source": [
        "# Import dataframes extracted from\n",
        "# expected_goals_data_extraction_notebook\n",
        "\n",
        "cleaned_data = pd.read_csv('/content/drive/MyDrive/flatiron/expected_goals/data_cleaning/cleaned_data.csv')"
      ],
      "execution_count": null,
      "outputs": []
    },
    {
      "cell_type": "code",
      "metadata": {
        "id": "KfCjOYE4mKxR"
      },
      "source": [
        "cleaned_data = cleaned_data.iloc[: , 1:]"
      ],
      "execution_count": null,
      "outputs": []
    },
    {
      "cell_type": "code",
      "metadata": {
        "scrolled": false,
        "colab": {
          "base_uri": "https://localhost:8080/",
          "height": 313
        },
        "id": "VZo-arPkmKxN",
        "outputId": "8c8ed610-06a0-4751-81c4-02d8e46c88b5"
      },
      "source": [
        "cleaned_data.head()"
      ],
      "execution_count": null,
      "outputs": [
        {
          "output_type": "execute_result",
          "data": {
            "text/html": [
              "<div>\n",
              "<style scoped>\n",
              "    .dataframe tbody tr th:only-of-type {\n",
              "        vertical-align: middle;\n",
              "    }\n",
              "\n",
              "    .dataframe tbody tr th {\n",
              "        vertical-align: top;\n",
              "    }\n",
              "\n",
              "    .dataframe thead th {\n",
              "        text-align: right;\n",
              "    }\n",
              "</style>\n",
              "<table border=\"1\" class=\"dataframe\">\n",
              "  <thead>\n",
              "    <tr style=\"text-align: right;\">\n",
              "      <th></th>\n",
              "      <th>statsbomb_xg</th>\n",
              "      <th>goal</th>\n",
              "      <th>player_shot</th>\n",
              "      <th>team</th>\n",
              "      <th>location_x</th>\n",
              "      <th>location_y</th>\n",
              "      <th>shot_distance</th>\n",
              "      <th>shot_angle</th>\n",
              "      <th>bodypart</th>\n",
              "      <th>technique</th>\n",
              "      <th>first_time</th>\n",
              "      <th>state_of_play</th>\n",
              "      <th>assist</th>\n",
              "      <th>assist_state_of_play</th>\n",
              "    </tr>\n",
              "  </thead>\n",
              "  <tbody>\n",
              "    <tr>\n",
              "      <th>0</th>\n",
              "      <td>0.266154</td>\n",
              "      <td>False</td>\n",
              "      <td>Francesca Kirby</td>\n",
              "      <td>Chelsea FCW</td>\n",
              "      <td>109.0</td>\n",
              "      <td>46.0</td>\n",
              "      <td>12.529964</td>\n",
              "      <td>118.61</td>\n",
              "      <td>Left Foot</td>\n",
              "      <td>Normal Shot</td>\n",
              "      <td>False</td>\n",
              "      <td>Open Play Shot</td>\n",
              "      <td>Ground Pass</td>\n",
              "      <td>Open Play Assist</td>\n",
              "    </tr>\n",
              "    <tr>\n",
              "      <th>1</th>\n",
              "      <td>0.093521</td>\n",
              "      <td>False</td>\n",
              "      <td>Bethany England</td>\n",
              "      <td>Chelsea FCW</td>\n",
              "      <td>113.0</td>\n",
              "      <td>35.0</td>\n",
              "      <td>8.602325</td>\n",
              "      <td>54.46</td>\n",
              "      <td>Head</td>\n",
              "      <td>Normal Shot</td>\n",
              "      <td>False</td>\n",
              "      <td>Open Play Shot</td>\n",
              "      <td>High Pass</td>\n",
              "      <td>Set Piece - Free Kick</td>\n",
              "    </tr>\n",
              "    <tr>\n",
              "      <th>2</th>\n",
              "      <td>0.036171</td>\n",
              "      <td>False</td>\n",
              "      <td>Drew Spence</td>\n",
              "      <td>Chelsea FCW</td>\n",
              "      <td>94.0</td>\n",
              "      <td>43.0</td>\n",
              "      <td>26.172505</td>\n",
              "      <td>96.58</td>\n",
              "      <td>Left Foot</td>\n",
              "      <td>Normal Shot</td>\n",
              "      <td>False</td>\n",
              "      <td>Open Play Shot</td>\n",
              "      <td>Ground Pass</td>\n",
              "      <td>Open Play Assist</td>\n",
              "    </tr>\n",
              "    <tr>\n",
              "      <th>3</th>\n",
              "      <td>0.016625</td>\n",
              "      <td>False</td>\n",
              "      <td>Chloe Arthur</td>\n",
              "      <td>Birmingham City WFC</td>\n",
              "      <td>86.0</td>\n",
              "      <td>34.0</td>\n",
              "      <td>34.525353</td>\n",
              "      <td>79.99</td>\n",
              "      <td>Left Foot</td>\n",
              "      <td>Normal Shot</td>\n",
              "      <td>False</td>\n",
              "      <td>Open Play Shot</td>\n",
              "      <td>Ground Pass</td>\n",
              "      <td>Set Piece - Goal Kick</td>\n",
              "    </tr>\n",
              "    <tr>\n",
              "      <th>4</th>\n",
              "      <td>0.030716</td>\n",
              "      <td>False</td>\n",
              "      <td>Bethany England</td>\n",
              "      <td>Chelsea FCW</td>\n",
              "      <td>94.0</td>\n",
              "      <td>33.0</td>\n",
              "      <td>26.925824</td>\n",
              "      <td>74.93</td>\n",
              "      <td>Right Foot</td>\n",
              "      <td>Normal Shot</td>\n",
              "      <td>False</td>\n",
              "      <td>Open Play Shot</td>\n",
              "      <td>Ground Pass</td>\n",
              "      <td>Set Piece - Goal Kick</td>\n",
              "    </tr>\n",
              "  </tbody>\n",
              "</table>\n",
              "</div>"
            ],
            "text/plain": [
              "   statsbomb_xg   goal  ...       assist   assist_state_of_play\n",
              "0      0.266154  False  ...  Ground Pass       Open Play Assist\n",
              "1      0.093521  False  ...    High Pass  Set Piece - Free Kick\n",
              "2      0.036171  False  ...  Ground Pass       Open Play Assist\n",
              "3      0.016625  False  ...  Ground Pass  Set Piece - Goal Kick\n",
              "4      0.030716  False  ...  Ground Pass  Set Piece - Goal Kick\n",
              "\n",
              "[5 rows x 14 columns]"
            ]
          },
          "metadata": {
            "tags": []
          },
          "execution_count": 208
        }
      ]
    },
    {
      "cell_type": "markdown",
      "metadata": {
        "id": "Q25ayRtkYlG9"
      },
      "source": [
        "# Encode Categorical Variables"
      ]
    },
    {
      "cell_type": "code",
      "metadata": {
        "id": "ND1Kt0MbxLIQ"
      },
      "source": [
        "# Drop unique variables, 'player_shot' and 'team'\n",
        "\n",
        "# Drop statsbomb_xg as modeling will generate new xG\n",
        "\n",
        "# Drop location_x and location_y, variables utilized\n",
        "# for feature engineering, but no longer \n",
        "# useful independently\n",
        "\n",
        "cleaned_data.drop(['statsbomb_xg',\n",
        "                   'player_shot',\n",
        "                   'team',\n",
        "                   'location_x',\n",
        "                   'location_y',],\n",
        "                  axis = 1,\n",
        "                  inplace = True)"
      ],
      "execution_count": null,
      "outputs": []
    },
    {
      "cell_type": "code",
      "metadata": {
        "colab": {
          "base_uri": "https://localhost:8080/",
          "height": 206
        },
        "id": "42O6GXDYzwZm",
        "outputId": "b2b262c7-4b6f-45e0-c054-fe0102d6d09a"
      },
      "source": [
        "cleaned_data.head()"
      ],
      "execution_count": null,
      "outputs": [
        {
          "output_type": "execute_result",
          "data": {
            "text/html": [
              "<div>\n",
              "<style scoped>\n",
              "    .dataframe tbody tr th:only-of-type {\n",
              "        vertical-align: middle;\n",
              "    }\n",
              "\n",
              "    .dataframe tbody tr th {\n",
              "        vertical-align: top;\n",
              "    }\n",
              "\n",
              "    .dataframe thead th {\n",
              "        text-align: right;\n",
              "    }\n",
              "</style>\n",
              "<table border=\"1\" class=\"dataframe\">\n",
              "  <thead>\n",
              "    <tr style=\"text-align: right;\">\n",
              "      <th></th>\n",
              "      <th>goal</th>\n",
              "      <th>shot_distance</th>\n",
              "      <th>shot_angle</th>\n",
              "      <th>bodypart</th>\n",
              "      <th>technique</th>\n",
              "      <th>first_time</th>\n",
              "      <th>state_of_play</th>\n",
              "      <th>assist</th>\n",
              "      <th>assist_state_of_play</th>\n",
              "    </tr>\n",
              "  </thead>\n",
              "  <tbody>\n",
              "    <tr>\n",
              "      <th>0</th>\n",
              "      <td>False</td>\n",
              "      <td>12.529964</td>\n",
              "      <td>118.61</td>\n",
              "      <td>Left Foot</td>\n",
              "      <td>Normal Shot</td>\n",
              "      <td>False</td>\n",
              "      <td>Open Play Shot</td>\n",
              "      <td>Ground Pass</td>\n",
              "      <td>Open Play Assist</td>\n",
              "    </tr>\n",
              "    <tr>\n",
              "      <th>1</th>\n",
              "      <td>False</td>\n",
              "      <td>8.602325</td>\n",
              "      <td>54.46</td>\n",
              "      <td>Head</td>\n",
              "      <td>Normal Shot</td>\n",
              "      <td>False</td>\n",
              "      <td>Open Play Shot</td>\n",
              "      <td>High Pass</td>\n",
              "      <td>Set Piece - Free Kick</td>\n",
              "    </tr>\n",
              "    <tr>\n",
              "      <th>2</th>\n",
              "      <td>False</td>\n",
              "      <td>26.172505</td>\n",
              "      <td>96.58</td>\n",
              "      <td>Left Foot</td>\n",
              "      <td>Normal Shot</td>\n",
              "      <td>False</td>\n",
              "      <td>Open Play Shot</td>\n",
              "      <td>Ground Pass</td>\n",
              "      <td>Open Play Assist</td>\n",
              "    </tr>\n",
              "    <tr>\n",
              "      <th>3</th>\n",
              "      <td>False</td>\n",
              "      <td>34.525353</td>\n",
              "      <td>79.99</td>\n",
              "      <td>Left Foot</td>\n",
              "      <td>Normal Shot</td>\n",
              "      <td>False</td>\n",
              "      <td>Open Play Shot</td>\n",
              "      <td>Ground Pass</td>\n",
              "      <td>Set Piece - Goal Kick</td>\n",
              "    </tr>\n",
              "    <tr>\n",
              "      <th>4</th>\n",
              "      <td>False</td>\n",
              "      <td>26.925824</td>\n",
              "      <td>74.93</td>\n",
              "      <td>Right Foot</td>\n",
              "      <td>Normal Shot</td>\n",
              "      <td>False</td>\n",
              "      <td>Open Play Shot</td>\n",
              "      <td>Ground Pass</td>\n",
              "      <td>Set Piece - Goal Kick</td>\n",
              "    </tr>\n",
              "  </tbody>\n",
              "</table>\n",
              "</div>"
            ],
            "text/plain": [
              "    goal  shot_distance  ...       assist   assist_state_of_play\n",
              "0  False      12.529964  ...  Ground Pass       Open Play Assist\n",
              "1  False       8.602325  ...    High Pass  Set Piece - Free Kick\n",
              "2  False      26.172505  ...  Ground Pass       Open Play Assist\n",
              "3  False      34.525353  ...  Ground Pass  Set Piece - Goal Kick\n",
              "4  False      26.925824  ...  Ground Pass  Set Piece - Goal Kick\n",
              "\n",
              "[5 rows x 9 columns]"
            ]
          },
          "metadata": {
            "tags": []
          },
          "execution_count": 210
        }
      ]
    },
    {
      "cell_type": "markdown",
      "metadata": {
        "id": "RkMyAyONZTZF"
      },
      "source": [
        "## Label Encode Boolean Variables"
      ]
    },
    {
      "cell_type": "code",
      "metadata": {
        "id": "e0A_U-BxZerg"
      },
      "source": [
        "# Boolean variables = 'goal' and 'first_time'\n",
        "\n",
        "cleaned_data['goal'] = LabelEncoder().fit_transform(cleaned_data['goal'])\n",
        "cleaned_data['first_time'] = LabelEncoder().fit_transform(cleaned_data['first_time'])"
      ],
      "execution_count": null,
      "outputs": []
    },
    {
      "cell_type": "code",
      "metadata": {
        "colab": {
          "base_uri": "https://localhost:8080/",
          "height": 206
        },
        "id": "GiyoEm0BaSI0",
        "outputId": "c242c957-15e0-4a2e-f580-583936e65790"
      },
      "source": [
        "cleaned_data.head()"
      ],
      "execution_count": null,
      "outputs": [
        {
          "output_type": "execute_result",
          "data": {
            "text/html": [
              "<div>\n",
              "<style scoped>\n",
              "    .dataframe tbody tr th:only-of-type {\n",
              "        vertical-align: middle;\n",
              "    }\n",
              "\n",
              "    .dataframe tbody tr th {\n",
              "        vertical-align: top;\n",
              "    }\n",
              "\n",
              "    .dataframe thead th {\n",
              "        text-align: right;\n",
              "    }\n",
              "</style>\n",
              "<table border=\"1\" class=\"dataframe\">\n",
              "  <thead>\n",
              "    <tr style=\"text-align: right;\">\n",
              "      <th></th>\n",
              "      <th>goal</th>\n",
              "      <th>shot_distance</th>\n",
              "      <th>shot_angle</th>\n",
              "      <th>bodypart</th>\n",
              "      <th>technique</th>\n",
              "      <th>first_time</th>\n",
              "      <th>state_of_play</th>\n",
              "      <th>assist</th>\n",
              "      <th>assist_state_of_play</th>\n",
              "    </tr>\n",
              "  </thead>\n",
              "  <tbody>\n",
              "    <tr>\n",
              "      <th>0</th>\n",
              "      <td>0</td>\n",
              "      <td>12.529964</td>\n",
              "      <td>118.61</td>\n",
              "      <td>Left Foot</td>\n",
              "      <td>Normal Shot</td>\n",
              "      <td>0</td>\n",
              "      <td>Open Play Shot</td>\n",
              "      <td>Ground Pass</td>\n",
              "      <td>Open Play Assist</td>\n",
              "    </tr>\n",
              "    <tr>\n",
              "      <th>1</th>\n",
              "      <td>0</td>\n",
              "      <td>8.602325</td>\n",
              "      <td>54.46</td>\n",
              "      <td>Head</td>\n",
              "      <td>Normal Shot</td>\n",
              "      <td>0</td>\n",
              "      <td>Open Play Shot</td>\n",
              "      <td>High Pass</td>\n",
              "      <td>Set Piece - Free Kick</td>\n",
              "    </tr>\n",
              "    <tr>\n",
              "      <th>2</th>\n",
              "      <td>0</td>\n",
              "      <td>26.172505</td>\n",
              "      <td>96.58</td>\n",
              "      <td>Left Foot</td>\n",
              "      <td>Normal Shot</td>\n",
              "      <td>0</td>\n",
              "      <td>Open Play Shot</td>\n",
              "      <td>Ground Pass</td>\n",
              "      <td>Open Play Assist</td>\n",
              "    </tr>\n",
              "    <tr>\n",
              "      <th>3</th>\n",
              "      <td>0</td>\n",
              "      <td>34.525353</td>\n",
              "      <td>79.99</td>\n",
              "      <td>Left Foot</td>\n",
              "      <td>Normal Shot</td>\n",
              "      <td>0</td>\n",
              "      <td>Open Play Shot</td>\n",
              "      <td>Ground Pass</td>\n",
              "      <td>Set Piece - Goal Kick</td>\n",
              "    </tr>\n",
              "    <tr>\n",
              "      <th>4</th>\n",
              "      <td>0</td>\n",
              "      <td>26.925824</td>\n",
              "      <td>74.93</td>\n",
              "      <td>Right Foot</td>\n",
              "      <td>Normal Shot</td>\n",
              "      <td>0</td>\n",
              "      <td>Open Play Shot</td>\n",
              "      <td>Ground Pass</td>\n",
              "      <td>Set Piece - Goal Kick</td>\n",
              "    </tr>\n",
              "  </tbody>\n",
              "</table>\n",
              "</div>"
            ],
            "text/plain": [
              "   goal  shot_distance  ...       assist   assist_state_of_play\n",
              "0     0      12.529964  ...  Ground Pass       Open Play Assist\n",
              "1     0       8.602325  ...    High Pass  Set Piece - Free Kick\n",
              "2     0      26.172505  ...  Ground Pass       Open Play Assist\n",
              "3     0      34.525353  ...  Ground Pass  Set Piece - Goal Kick\n",
              "4     0      26.925824  ...  Ground Pass  Set Piece - Goal Kick\n",
              "\n",
              "[5 rows x 9 columns]"
            ]
          },
          "metadata": {
            "tags": []
          },
          "execution_count": 212
        }
      ]
    },
    {
      "cell_type": "markdown",
      "metadata": {
        "id": "KRlQ86Ifbki2"
      },
      "source": [
        "## One Hot Encode Categorical Variables"
      ]
    },
    {
      "cell_type": "code",
      "metadata": {
        "id": "ZlhBlUBz30Ij"
      },
      "source": [
        "# Categorical variables = 'bodypart', 'technique', 'state_of_play',\n",
        "# 'assist', 'assist_state_of_play'\n",
        "\n",
        "categorical_data = cleaned_data.drop(['goal',\n",
        "                                      'shot_distance',\n",
        "                                      'shot_angle',\n",
        "                                      'first_time'],\n",
        "                                     axis = 1)"
      ],
      "execution_count": null,
      "outputs": []
    },
    {
      "cell_type": "code",
      "metadata": {
        "id": "sbEtLVy7EeD0"
      },
      "source": [
        "# One Hot Encode categorical_data\n",
        "\n",
        "encoded_bodypart = pd.get_dummies(categorical_data['bodypart'])\n",
        "\n",
        "encoded_technique = pd.get_dummies(categorical_data['technique'])\n",
        "encoded_categories = encoded_bodypart.join(encoded_technique)\n",
        "\n",
        "encoded_state_of_play = pd.get_dummies(categorical_data['state_of_play'])\n",
        "encoded_categories = encoded_categories.join(encoded_state_of_play)\n",
        "\n",
        "encoded_assist = pd.get_dummies(categorical_data['assist'])\n",
        "encoded_categories = encoded_categories.join(encoded_assist)\n",
        "\n",
        "encoded_assist_state_of_play = pd.get_dummies(categorical_data['assist_state_of_play'])\n",
        "encoded_assist_state_of_play.drop( 'No Assist',\n",
        "                                  axis = 1,\n",
        "                                  inplace = True)\n",
        "\n",
        "encoded_categories = encoded_categories.join(encoded_assist_state_of_play)"
      ],
      "execution_count": null,
      "outputs": []
    },
    {
      "cell_type": "code",
      "metadata": {
        "colab": {
          "base_uri": "https://localhost:8080/",
          "height": 313
        },
        "id": "PCk4fX5_QV4K",
        "outputId": "07d32e57-8c32-4c46-fdc5-1eac50414b80"
      },
      "source": [
        "encoded_categories.head()"
      ],
      "execution_count": null,
      "outputs": [
        {
          "output_type": "execute_result",
          "data": {
            "text/html": [
              "<div>\n",
              "<style scoped>\n",
              "    .dataframe tbody tr th:only-of-type {\n",
              "        vertical-align: middle;\n",
              "    }\n",
              "\n",
              "    .dataframe tbody tr th {\n",
              "        vertical-align: top;\n",
              "    }\n",
              "\n",
              "    .dataframe thead th {\n",
              "        text-align: right;\n",
              "    }\n",
              "</style>\n",
              "<table border=\"1\" class=\"dataframe\">\n",
              "  <thead>\n",
              "    <tr style=\"text-align: right;\">\n",
              "      <th></th>\n",
              "      <th>Head</th>\n",
              "      <th>Left Foot</th>\n",
              "      <th>Other Bodypart</th>\n",
              "      <th>Right Foot</th>\n",
              "      <th>Half Volley</th>\n",
              "      <th>Normal Shot</th>\n",
              "      <th>Volley</th>\n",
              "      <th>Open Play Shot</th>\n",
              "      <th>Set Piece - Direct Free Kick</th>\n",
              "      <th>Set Piece - Penalty</th>\n",
              "      <th>Cross</th>\n",
              "      <th>Cut Back</th>\n",
              "      <th>Ground Pass</th>\n",
              "      <th>High Pass</th>\n",
              "      <th>Low Pass</th>\n",
              "      <th>Through Ball</th>\n",
              "      <th>Unassisted</th>\n",
              "      <th>Open Play - Assist</th>\n",
              "      <th>Open Play - Counter Attack</th>\n",
              "      <th>Open Play - Keeper</th>\n",
              "      <th>Open Play Assist</th>\n",
              "      <th>Set Piece - Corner</th>\n",
              "      <th>Set Piece - Free Kick</th>\n",
              "      <th>Set Piece - Goal Kick</th>\n",
              "      <th>Set Piece - Kick Off</th>\n",
              "      <th>Set Piece - Throw In</th>\n",
              "    </tr>\n",
              "  </thead>\n",
              "  <tbody>\n",
              "    <tr>\n",
              "      <th>0</th>\n",
              "      <td>0</td>\n",
              "      <td>1</td>\n",
              "      <td>0</td>\n",
              "      <td>0</td>\n",
              "      <td>0</td>\n",
              "      <td>1</td>\n",
              "      <td>0</td>\n",
              "      <td>1</td>\n",
              "      <td>0</td>\n",
              "      <td>0</td>\n",
              "      <td>0</td>\n",
              "      <td>0</td>\n",
              "      <td>1</td>\n",
              "      <td>0</td>\n",
              "      <td>0</td>\n",
              "      <td>0</td>\n",
              "      <td>0</td>\n",
              "      <td>0</td>\n",
              "      <td>0</td>\n",
              "      <td>0</td>\n",
              "      <td>1</td>\n",
              "      <td>0</td>\n",
              "      <td>0</td>\n",
              "      <td>0</td>\n",
              "      <td>0</td>\n",
              "      <td>0</td>\n",
              "    </tr>\n",
              "    <tr>\n",
              "      <th>1</th>\n",
              "      <td>1</td>\n",
              "      <td>0</td>\n",
              "      <td>0</td>\n",
              "      <td>0</td>\n",
              "      <td>0</td>\n",
              "      <td>1</td>\n",
              "      <td>0</td>\n",
              "      <td>1</td>\n",
              "      <td>0</td>\n",
              "      <td>0</td>\n",
              "      <td>0</td>\n",
              "      <td>0</td>\n",
              "      <td>0</td>\n",
              "      <td>1</td>\n",
              "      <td>0</td>\n",
              "      <td>0</td>\n",
              "      <td>0</td>\n",
              "      <td>0</td>\n",
              "      <td>0</td>\n",
              "      <td>0</td>\n",
              "      <td>0</td>\n",
              "      <td>0</td>\n",
              "      <td>1</td>\n",
              "      <td>0</td>\n",
              "      <td>0</td>\n",
              "      <td>0</td>\n",
              "    </tr>\n",
              "    <tr>\n",
              "      <th>2</th>\n",
              "      <td>0</td>\n",
              "      <td>1</td>\n",
              "      <td>0</td>\n",
              "      <td>0</td>\n",
              "      <td>0</td>\n",
              "      <td>1</td>\n",
              "      <td>0</td>\n",
              "      <td>1</td>\n",
              "      <td>0</td>\n",
              "      <td>0</td>\n",
              "      <td>0</td>\n",
              "      <td>0</td>\n",
              "      <td>1</td>\n",
              "      <td>0</td>\n",
              "      <td>0</td>\n",
              "      <td>0</td>\n",
              "      <td>0</td>\n",
              "      <td>0</td>\n",
              "      <td>0</td>\n",
              "      <td>0</td>\n",
              "      <td>1</td>\n",
              "      <td>0</td>\n",
              "      <td>0</td>\n",
              "      <td>0</td>\n",
              "      <td>0</td>\n",
              "      <td>0</td>\n",
              "    </tr>\n",
              "    <tr>\n",
              "      <th>3</th>\n",
              "      <td>0</td>\n",
              "      <td>1</td>\n",
              "      <td>0</td>\n",
              "      <td>0</td>\n",
              "      <td>0</td>\n",
              "      <td>1</td>\n",
              "      <td>0</td>\n",
              "      <td>1</td>\n",
              "      <td>0</td>\n",
              "      <td>0</td>\n",
              "      <td>0</td>\n",
              "      <td>0</td>\n",
              "      <td>1</td>\n",
              "      <td>0</td>\n",
              "      <td>0</td>\n",
              "      <td>0</td>\n",
              "      <td>0</td>\n",
              "      <td>0</td>\n",
              "      <td>0</td>\n",
              "      <td>0</td>\n",
              "      <td>0</td>\n",
              "      <td>0</td>\n",
              "      <td>0</td>\n",
              "      <td>1</td>\n",
              "      <td>0</td>\n",
              "      <td>0</td>\n",
              "    </tr>\n",
              "    <tr>\n",
              "      <th>4</th>\n",
              "      <td>0</td>\n",
              "      <td>0</td>\n",
              "      <td>0</td>\n",
              "      <td>1</td>\n",
              "      <td>0</td>\n",
              "      <td>1</td>\n",
              "      <td>0</td>\n",
              "      <td>1</td>\n",
              "      <td>0</td>\n",
              "      <td>0</td>\n",
              "      <td>0</td>\n",
              "      <td>0</td>\n",
              "      <td>1</td>\n",
              "      <td>0</td>\n",
              "      <td>0</td>\n",
              "      <td>0</td>\n",
              "      <td>0</td>\n",
              "      <td>0</td>\n",
              "      <td>0</td>\n",
              "      <td>0</td>\n",
              "      <td>0</td>\n",
              "      <td>0</td>\n",
              "      <td>0</td>\n",
              "      <td>1</td>\n",
              "      <td>0</td>\n",
              "      <td>0</td>\n",
              "    </tr>\n",
              "  </tbody>\n",
              "</table>\n",
              "</div>"
            ],
            "text/plain": [
              "   Head  Left Foot  ...  Set Piece - Kick Off  Set Piece - Throw In\n",
              "0     0          1  ...                     0                     0\n",
              "1     1          0  ...                     0                     0\n",
              "2     0          1  ...                     0                     0\n",
              "3     0          1  ...                     0                     0\n",
              "4     0          0  ...                     0                     0\n",
              "\n",
              "[5 rows x 26 columns]"
            ]
          },
          "metadata": {
            "tags": []
          },
          "execution_count": 215
        }
      ]
    },
    {
      "cell_type": "markdown",
      "metadata": {
        "id": "1BZWVCo1b2Bf"
      },
      "source": [
        "# Scale Numerical Variables"
      ]
    },
    {
      "cell_type": "code",
      "metadata": {
        "id": "q5mS_N6tqUi4"
      },
      "source": [
        "# Numerical data = 'shot_distance' and 'shot_angle'\n",
        "\n",
        "scaler = MinMaxScaler(feature_range = (0, 1))\n",
        "\n",
        "numerical_variables = ['shot_distance', 'shot_angle']\n",
        "cleaned_data[numerical_variables] = scaler.fit_transform(cleaned_data[numerical_variables])"
      ],
      "execution_count": null,
      "outputs": []
    },
    {
      "cell_type": "markdown",
      "metadata": {
        "id": "l9VtmjaVJxKY"
      },
      "source": [
        "# Create New Dataframe from Preprocessed Data"
      ]
    },
    {
      "cell_type": "code",
      "metadata": {
        "id": "Jw36FEhfJla0"
      },
      "source": [
        "encoded_data = encoded_categories\n",
        "encoded_data['shot_distance'] = cleaned_data['shot_distance']\n",
        "encoded_data['shot_angle'] = cleaned_data['shot_angle']\n",
        "encoded_data['goal'] = cleaned_data['goal']\n",
        "encoded_data['first_time'] = cleaned_data['first_time']"
      ],
      "execution_count": null,
      "outputs": []
    },
    {
      "cell_type": "code",
      "metadata": {
        "colab": {
          "base_uri": "https://localhost:8080/",
          "height": 313
        },
        "id": "ntk2GzydLy86",
        "outputId": "eeb6c531-21f5-4751-9189-489643cfab41"
      },
      "source": [
        "encoded_data.head()"
      ],
      "execution_count": null,
      "outputs": [
        {
          "output_type": "execute_result",
          "data": {
            "text/html": [
              "<div>\n",
              "<style scoped>\n",
              "    .dataframe tbody tr th:only-of-type {\n",
              "        vertical-align: middle;\n",
              "    }\n",
              "\n",
              "    .dataframe tbody tr th {\n",
              "        vertical-align: top;\n",
              "    }\n",
              "\n",
              "    .dataframe thead th {\n",
              "        text-align: right;\n",
              "    }\n",
              "</style>\n",
              "<table border=\"1\" class=\"dataframe\">\n",
              "  <thead>\n",
              "    <tr style=\"text-align: right;\">\n",
              "      <th></th>\n",
              "      <th>Head</th>\n",
              "      <th>Left Foot</th>\n",
              "      <th>Other Bodypart</th>\n",
              "      <th>Right Foot</th>\n",
              "      <th>Half Volley</th>\n",
              "      <th>Normal Shot</th>\n",
              "      <th>Volley</th>\n",
              "      <th>Open Play Shot</th>\n",
              "      <th>Set Piece - Direct Free Kick</th>\n",
              "      <th>Set Piece - Penalty</th>\n",
              "      <th>Cross</th>\n",
              "      <th>Cut Back</th>\n",
              "      <th>Ground Pass</th>\n",
              "      <th>High Pass</th>\n",
              "      <th>Low Pass</th>\n",
              "      <th>Through Ball</th>\n",
              "      <th>Unassisted</th>\n",
              "      <th>Open Play - Assist</th>\n",
              "      <th>Open Play - Counter Attack</th>\n",
              "      <th>Open Play - Keeper</th>\n",
              "      <th>Open Play Assist</th>\n",
              "      <th>Set Piece - Corner</th>\n",
              "      <th>Set Piece - Free Kick</th>\n",
              "      <th>Set Piece - Goal Kick</th>\n",
              "      <th>Set Piece - Kick Off</th>\n",
              "      <th>Set Piece - Throw In</th>\n",
              "      <th>shot_distance</th>\n",
              "      <th>shot_angle</th>\n",
              "      <th>goal</th>\n",
              "      <th>first_time</th>\n",
              "    </tr>\n",
              "  </thead>\n",
              "  <tbody>\n",
              "    <tr>\n",
              "      <th>0</th>\n",
              "      <td>0</td>\n",
              "      <td>1</td>\n",
              "      <td>0</td>\n",
              "      <td>0</td>\n",
              "      <td>0</td>\n",
              "      <td>1</td>\n",
              "      <td>0</td>\n",
              "      <td>1</td>\n",
              "      <td>0</td>\n",
              "      <td>0</td>\n",
              "      <td>0</td>\n",
              "      <td>0</td>\n",
              "      <td>1</td>\n",
              "      <td>0</td>\n",
              "      <td>0</td>\n",
              "      <td>0</td>\n",
              "      <td>0</td>\n",
              "      <td>0</td>\n",
              "      <td>0</td>\n",
              "      <td>0</td>\n",
              "      <td>1</td>\n",
              "      <td>0</td>\n",
              "      <td>0</td>\n",
              "      <td>0</td>\n",
              "      <td>0</td>\n",
              "      <td>0</td>\n",
              "      <td>0.175922</td>\n",
              "      <td>0.658944</td>\n",
              "      <td>0</td>\n",
              "      <td>0</td>\n",
              "    </tr>\n",
              "    <tr>\n",
              "      <th>1</th>\n",
              "      <td>1</td>\n",
              "      <td>0</td>\n",
              "      <td>0</td>\n",
              "      <td>0</td>\n",
              "      <td>0</td>\n",
              "      <td>1</td>\n",
              "      <td>0</td>\n",
              "      <td>1</td>\n",
              "      <td>0</td>\n",
              "      <td>0</td>\n",
              "      <td>0</td>\n",
              "      <td>0</td>\n",
              "      <td>0</td>\n",
              "      <td>1</td>\n",
              "      <td>0</td>\n",
              "      <td>0</td>\n",
              "      <td>0</td>\n",
              "      <td>0</td>\n",
              "      <td>0</td>\n",
              "      <td>0</td>\n",
              "      <td>0</td>\n",
              "      <td>0</td>\n",
              "      <td>1</td>\n",
              "      <td>0</td>\n",
              "      <td>0</td>\n",
              "      <td>0</td>\n",
              "      <td>0.115995</td>\n",
              "      <td>0.302556</td>\n",
              "      <td>0</td>\n",
              "      <td>0</td>\n",
              "    </tr>\n",
              "    <tr>\n",
              "      <th>2</th>\n",
              "      <td>0</td>\n",
              "      <td>1</td>\n",
              "      <td>0</td>\n",
              "      <td>0</td>\n",
              "      <td>0</td>\n",
              "      <td>1</td>\n",
              "      <td>0</td>\n",
              "      <td>1</td>\n",
              "      <td>0</td>\n",
              "      <td>0</td>\n",
              "      <td>0</td>\n",
              "      <td>0</td>\n",
              "      <td>1</td>\n",
              "      <td>0</td>\n",
              "      <td>0</td>\n",
              "      <td>0</td>\n",
              "      <td>0</td>\n",
              "      <td>0</td>\n",
              "      <td>0</td>\n",
              "      <td>0</td>\n",
              "      <td>1</td>\n",
              "      <td>0</td>\n",
              "      <td>0</td>\n",
              "      <td>0</td>\n",
              "      <td>0</td>\n",
              "      <td>0</td>\n",
              "      <td>0.384077</td>\n",
              "      <td>0.536556</td>\n",
              "      <td>0</td>\n",
              "      <td>0</td>\n",
              "    </tr>\n",
              "    <tr>\n",
              "      <th>3</th>\n",
              "      <td>0</td>\n",
              "      <td>1</td>\n",
              "      <td>0</td>\n",
              "      <td>0</td>\n",
              "      <td>0</td>\n",
              "      <td>1</td>\n",
              "      <td>0</td>\n",
              "      <td>1</td>\n",
              "      <td>0</td>\n",
              "      <td>0</td>\n",
              "      <td>0</td>\n",
              "      <td>0</td>\n",
              "      <td>1</td>\n",
              "      <td>0</td>\n",
              "      <td>0</td>\n",
              "      <td>0</td>\n",
              "      <td>0</td>\n",
              "      <td>0</td>\n",
              "      <td>0</td>\n",
              "      <td>0</td>\n",
              "      <td>0</td>\n",
              "      <td>0</td>\n",
              "      <td>0</td>\n",
              "      <td>1</td>\n",
              "      <td>0</td>\n",
              "      <td>0</td>\n",
              "      <td>0.511523</td>\n",
              "      <td>0.444389</td>\n",
              "      <td>0</td>\n",
              "      <td>0</td>\n",
              "    </tr>\n",
              "    <tr>\n",
              "      <th>4</th>\n",
              "      <td>0</td>\n",
              "      <td>0</td>\n",
              "      <td>0</td>\n",
              "      <td>1</td>\n",
              "      <td>0</td>\n",
              "      <td>1</td>\n",
              "      <td>0</td>\n",
              "      <td>1</td>\n",
              "      <td>0</td>\n",
              "      <td>0</td>\n",
              "      <td>0</td>\n",
              "      <td>0</td>\n",
              "      <td>1</td>\n",
              "      <td>0</td>\n",
              "      <td>0</td>\n",
              "      <td>0</td>\n",
              "      <td>0</td>\n",
              "      <td>0</td>\n",
              "      <td>0</td>\n",
              "      <td>0</td>\n",
              "      <td>0</td>\n",
              "      <td>0</td>\n",
              "      <td>0</td>\n",
              "      <td>1</td>\n",
              "      <td>0</td>\n",
              "      <td>0</td>\n",
              "      <td>0.395571</td>\n",
              "      <td>0.416278</td>\n",
              "      <td>0</td>\n",
              "      <td>0</td>\n",
              "    </tr>\n",
              "  </tbody>\n",
              "</table>\n",
              "</div>"
            ],
            "text/plain": [
              "   Head  Left Foot  Other Bodypart  ...  shot_angle  goal  first_time\n",
              "0     0          1               0  ...    0.658944     0           0\n",
              "1     1          0               0  ...    0.302556     0           0\n",
              "2     0          1               0  ...    0.536556     0           0\n",
              "3     0          1               0  ...    0.444389     0           0\n",
              "4     0          0               0  ...    0.416278     0           0\n",
              "\n",
              "[5 rows x 30 columns]"
            ]
          },
          "metadata": {
            "tags": []
          },
          "execution_count": 218
        }
      ]
    },
    {
      "cell_type": "code",
      "metadata": {
        "id": "3woxxcJ1sZ6F"
      },
      "source": [
        "preprocessed_data = encoded_data\n",
        "preprocessed_data.to_csv('/content/drive/MyDrive/flatiron/expected_goals/data_preprocessing/preprocessed_data.csv')"
      ],
      "execution_count": null,
      "outputs": []
    },
    {
      "cell_type": "markdown",
      "metadata": {
        "id": "WNfzns9NTH9_"
      },
      "source": [
        "Continued in [expected_goals_data_modeling_notebook](https://github.com/wswager/expected_goals/blob/main/data_modeling/expected_goals_data_modeling_notebook.ipynb)"
      ]
    }
  ]
}